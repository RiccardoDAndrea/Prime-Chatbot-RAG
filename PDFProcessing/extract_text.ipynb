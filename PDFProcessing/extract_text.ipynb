{
 "cells": [
  {
   "cell_type": "code",
   "execution_count": null,
   "metadata": {},
   "outputs": [],
   "source": [
    "import os\n",
    "os.getcwd()\n",
    "os.chdir(\"..\")"
   ]
  },
  {
   "cell_type": "code",
   "execution_count": null,
   "metadata": {},
   "outputs": [],
   "source": [
    "os.getcwd()\n"
   ]
  },
  {
   "cell_type": "code",
   "execution_count": null,
   "metadata": {},
   "outputs": [],
   "source": [
    "# Optimizing the chucking process\n",
    "import os\n",
    "import pdfplumber\n",
    "import re\n",
    "\n",
    "\n",
    "# python PDFProcessing/PDFProccesing.py > outputs/refoutput.txt\n",
    "\n",
    "text_list = []\n",
    "\n",
    "with pdfplumber.open(\"PDF_docs/doc_0.pdf\") as pdf:\n",
    "    for page in pdf.pages:\n",
    "        text = page.extract_text()\n",
    "        if text:\n",
    "            text_list.append(text)\n",
    "            text = text.join(text_list)\n",
    "text\n",
    "\n",
    "\n",
    "\n"
   ]
  },
  {
   "cell_type": "code",
   "execution_count": null,
   "metadata": {},
   "outputs": [],
   "source": [
    "parts = re.split(r\"\\breferences\\b\", text, flags=re.IGNORECASE, maxsplit=1)\n",
    "\n",
    "body = parts[0].strip()  # Everything before \"References\"\n",
    "reference = parts[1].strip() if len(parts) > 1 else \"\"  # Everything after \"References\"\n",
    "\n"
   ]
  },
  {
   "cell_type": "code",
   "execution_count": null,
   "metadata": {},
   "outputs": [],
   "source": [
    "reference"
   ]
  },
  {
   "cell_type": "code",
   "execution_count": null,
   "metadata": {},
   "outputs": [],
   "source": [
    "# Get meta data"
   ]
  },
  {
   "cell_type": "code",
   "execution_count": null,
   "metadata": {},
   "outputs": [],
   "source": [
    "pdf = pdfplumber.open(\"PDF_docs/doc_2.pdf\")\n",
    "pdf.metadata"
   ]
  },
  {
   "cell_type": "code",
   "execution_count": null,
   "metadata": {},
   "outputs": [],
   "source": [
    "pdf = pdfplumber.open(\"PDF_docs/doc_0.pdf\")\n",
    "metadata = pdf.metadata  # Extrahiere Metadaten\n",
    "if metadata and \"Title\" in metadata and metadata[\"Title\"]:\n",
    "    print( f\"Titel: {metadata['Title']}\")\n",
    "else: \n",
    "    print(False)"
   ]
  },
  {
   "cell_type": "code",
   "execution_count": null,
   "metadata": {},
   "outputs": [],
   "source": [
    "with pdfplumber.open(\"PDF_docs/doc_1.pdf\") as pdf:\n",
    "    metadata = pdf.metadata\n",
    "    print(metadata)"
   ]
  },
  {
   "cell_type": "code",
   "execution_count": null,
   "metadata": {},
   "outputs": [],
   "source": []
  },
  {
   "cell_type": "code",
   "execution_count": 1,
   "metadata": {},
   "outputs": [],
   "source": [
    "from ollama import ChatResponse, chat\n",
    "from langchain_ollama import OllamaEmbeddings\n",
    "from langchain_community.document_loaders import PyPDFLoader\n",
    "from langchain.text_splitter import RecursiveCharacterTextSplitter\n",
    "from langchain_ollama import ChatOllama\n",
    "from langchain.prompts import PromptTemplate\n",
    "from langchain_community.vectorstores import SKLearnVectorStore\n",
    "from langchain_core.output_parsers import StrOutputParser\n",
    "import os\n",
    "from langchain_chroma import Chroma\n",
    "import chromadb"
   ]
  },
  {
   "cell_type": "code",
   "execution_count": 2,
   "metadata": {},
   "outputs": [],
   "source": [
    "import os\n",
    "os.chdir(\"..\")"
   ]
  },
  {
   "cell_type": "code",
   "execution_count": null,
   "metadata": {},
   "outputs": [],
   "source": []
  },
  {
   "cell_type": "code",
   "execution_count": null,
   "metadata": {},
   "outputs": [],
   "source": [
    "import os\n",
    "from langchain_community.document_loaders import PyPDFLoader\n",
    "from langchain_ollama import OllamaEmbeddings\n",
    "import chromadb\n",
    "from langchain_chroma import Chroma\n",
    "\n",
    "# # 📌 Schritt 1: PDFs laden\n",
    "# pdf_dir = \"PDF_docs/\"\n",
    "# pdf_files = [f for f in os.listdir(pdf_dir) if f.endswith(\".pdf\")]  # Nur PDFs\n",
    "\n",
    "# all_docs = []\n",
    "# for pdf_file in pdf_files:\n",
    "#     pdf_path = os.path.join(pdf_dir, pdf_file)\n",
    "#     loader = PyPDFLoader(pdf_path)\n",
    "#     docs = loader.load()\n",
    "#     all_docs.extend(docs)  # Dokumente speichern\n",
    "\n",
    "# print(f\"✅ {len(all_docs)} Dokumente geladen.\")\n",
    "\n",
    "# # 📌 Schritt 2: Embeddings erstellen\n",
    "# embeddings = OllamaEmbeddings(model=\"llama3.2:latest\")  # Korrekte Embeddings\n",
    "\n",
    "# # 📌 Schritt 3: ChromaDB persistent speichern\n",
    "# persistent_client = chromadb.PersistentClient(path=\"./chroma_langchain_db\")  # Verzeichnis für Speicherung\n",
    "# collection = persistent_client.get_or_create_collection(\"collection_name\")\n",
    "\n",
    "# 📌 Schritt 4: Dokumente zu ChromaDB hinzufügen\n",
    "doc_texts = [doc.page_content for doc in all_docs]  # Extrahiere den Text\n",
    "doc_ids = [f\"doc_{i}\" for i in range(len(doc_texts))]  # Einzigartige IDs\n",
    "\n",
    "collection.add(ids=doc_ids, documents=doc_texts)  # Speichern in ChromaDB\n",
    "\n",
    "# 📌 Schritt 5: Chroma-VectorStore mit gespeicherten Daten initialisieren\n",
    "vector_store_from_client = Chroma(\n",
    "    persist_directory=\"./chroma_langchain_db\",\n",
    "    collection_name=\"collection_name\",\n",
    "    embedding_function=embeddings,\n",
    ")\n",
    "\n",
    "print(\"✅ ChromaDB erfolgreich mit PDFs initialisiert!\")\n"
   ]
  },
  {
   "cell_type": "code",
   "execution_count": 3,
   "metadata": {},
   "outputs": [],
   "source": [
    "file_path = \"PDF_docs/\"\n",
    "\n",
    "def save_doc(file_path):\n",
    "    # Schritt 1: PDFs laden\n",
    "    file_path = \"PDF_docs/\"\n",
    "    pdf_files = [f for f in os.listdir(file_path) if f.endswith(\".pdf\")]  # Nur PDFs\n",
    "\n",
    "    all_docs = []\n",
    "    for pdf_file in pdf_files:\n",
    "        pdf_path = os.path.join(file_path, pdf_file)\n",
    "        loader = PyPDFLoader(pdf_path)\n",
    "        docs = loader.load()\n",
    "        all_docs.extend(docs)  # Dokumente speichern\n",
    "    \n",
    "    return all_docs"
   ]
  },
  {
   "cell_type": "code",
   "execution_count": 4,
   "metadata": {},
   "outputs": [
    {
     "data": {
      "text/plain": [
       "117"
      ]
     },
     "execution_count": 4,
     "metadata": {},
     "output_type": "execute_result"
    }
   ],
   "source": [
    "all_docs = save_doc(file_path=file_path)\n",
    "len(all_docs)"
   ]
  },
  {
   "cell_type": "code",
   "execution_count": 5,
   "metadata": {},
   "outputs": [],
   "source": [
    "def embedding():\n",
    "    embeddings = OllamaEmbeddings(model=\"granite-embedding:30m\")  # Korrekte Embeddings\n",
    "    return embeddings"
   ]
  },
  {
   "cell_type": "code",
   "execution_count": 6,
   "metadata": {},
   "outputs": [
    {
     "data": {
      "text/plain": [
       "OllamaEmbeddings(model='granite-embedding:30m', base_url=None, client_kwargs={})"
      ]
     },
     "execution_count": 6,
     "metadata": {},
     "output_type": "execute_result"
    }
   ],
   "source": [
    "embeddings = embedding() \n",
    "embeddings"
   ]
  },
  {
   "cell_type": "code",
   "execution_count": 7,
   "metadata": {},
   "outputs": [
    {
     "data": {
      "text/plain": [
       "Collection(name=collection_name)"
      ]
     },
     "execution_count": 7,
     "metadata": {},
     "output_type": "execute_result"
    }
   ],
   "source": [
    "def persistent_clientChroma():\n",
    "    persistent_client = chromadb.PersistentClient(path=\"./chroma_langchain_db\")  # Verzeichnis für Speicherung\n",
    "    collection = persistent_client.get_or_create_collection(\"collection_name\")\n",
    "    return collection\n",
    "\n",
    "collection = persistent_clientChroma()\n",
    "collection"
   ]
  },
  {
   "cell_type": "code",
   "execution_count": 8,
   "metadata": {},
   "outputs": [],
   "source": [
    "def add_doc_to_Chroma():\n",
    "    doc_texts = [doc.page_content for doc in all_docs]  # Extrahiere den Text\n",
    "    doc_ids = [f\"doc_{i}\" for i in range(len(doc_texts))]  # Einzigartige IDs\n",
    "\n",
    "    collection_db = collection.add(ids=doc_ids, documents=doc_texts)  # Speichern in ChromaDB\n",
    "    return collection_db"
   ]
  },
  {
   "cell_type": "code",
   "execution_count": 9,
   "metadata": {},
   "outputs": [],
   "source": [
    "collection_db = add_doc_to_Chroma()\n",
    "collection_db"
   ]
  },
  {
   "cell_type": "code",
   "execution_count": 10,
   "metadata": {},
   "outputs": [],
   "source": [
    "def vector_store_from_clientChroma():\n",
    "    # 📌 Schritt 5: Chroma-VectorStore mit gespeicherten Daten initialisieren\n",
    "    vector_store_from_client = Chroma(\n",
    "        persist_directory=\"./chroma_langchain_db\",\n",
    "        collection_name=\"collection_name\",\n",
    "        embedding_function=embeddings,\n",
    "    )\n",
    "    return vector_store_from_client"
   ]
  },
  {
   "cell_type": "code",
   "execution_count": 11,
   "metadata": {},
   "outputs": [
    {
     "data": {
      "text/plain": [
       "<langchain_chroma.vectorstores.Chroma at 0x7f8f74dd5c90>"
      ]
     },
     "execution_count": 11,
     "metadata": {},
     "output_type": "execute_result"
    }
   ],
   "source": [
    "vector_store_from_client= vector_store_from_clientChroma()\n",
    "vector_store_from_client"
   ]
  },
  {
   "cell_type": "code",
   "execution_count": 16,
   "metadata": {},
   "outputs": [
    {
     "data": {
      "text/plain": [
       "[Document(id='doc_34', metadata={}, page_content='Exhibit 4\\nGenerative AI use cases will have diﬀerent impacts on business functions \\nacross industries.\\nMcKinsey & Company\\nAdministrative and \\nprofessional services\\nAdvanced electronics \\nand semiconductors\\nAdvanced manufacturing/three.numr\\nAgriculture\\nBanking\\nBasic materials\\nChemical\\nConstruction\\nConsumer packaged goods\\nEducation\\nEnergy\\nHealthcare\\nHigh tech\\nInsurance\\nMedia and entertainment\\nPharmaceuticals and \\nmedical products\\nPublic and social sector\\nReal estate\\nRetail/four.numr\\nTelecommunications\\nTravel, transport, and logistics\\nTotal,\\n$ billion\\n150/endash.case250\\n100/endash.case170\\n170/endash.case290\\n40/endash.case70\\n200/endash.case340\\n120/endash.case200\\n80/endash.case140\\n90/endash.case150\\n160/endash.case270\\n120/endash.case230\\n150/endash.case240\\n150/endash.case260\\n240/endash.case460\\n50/endash.case70\\n60/endash.case110\\n60/endash.case110\\n70/endash.case110\\n110/endash.case180\\n240/endash.case390\\n60/endash.case100\\n180/endash.case300\\nTotal, % of\\nindustry\\nrevenue\\n0.9/endash.case1.4\\n1.3/endash.case2.3\\n1.4/endash.case2.4\\n0.6/endash.case1.0\\n2.8/endash.case4.7\\n0.7– 1.2\\n0.8/endash.case1.3\\n0.7/endash.case1.2\\n1.4/endash.case2.3\\n2.2/endash.case4.0\\n1.0– 1.6\\n1.8/endash.case3.2\\n4.8/endash.case9.3\\n1.8– 2.8\\n1.5– 2.6\\n2.6/endash.case4.5\\n0.5/endash.case0.9\\n1.0/endash.case1.7\\n1.2/endash.case1.9\\n2.3/endash.case3.7\\n1.2/endash.case2.0\\nGenerative AI productivity \\nimpact by business functions¹ \\nMarketing and sales Customer operations\\nProduct and R&D\\nSoftware engineering\\nSupply chain and operations\\nRisk and legal\\nStrategy and /f_inance\\nCorporate IT/two.numr\\nTalent and organization\\n2,600/endash.case4,400\\nNote: Figures may not sum to 100%, because of rounding.\\n1 Excludes implementation costs (eg, training, licenses).\\n2 Excluding software engineering.\\n3 Includes aerospace, defense, and auto manufacturing.\\n4 Including auto retail.\\nSource: Comparative Industry Service (CIS), IHS Markit; Oxford Economics; McKinsey Corporate and Business Functions database; McKinsey Manufacturing \\nand Supply Chain 360; McKinsey Sales Navigator; Ignite, a McKinsey database; McKinsey analysis \\n760–\\n1,200\\n340–\\n470 \\n230–\\n420 \\n580–\\n1,200 \\n280–\\n530 \\n180–\\n260 \\n120–\\n260 \\n40–\\n50 \\n60–\\n90 \\nLow impact High impact\\n25The economic potential of generative AI: The next productivity frontier'),\n",
       " Document(id='doc_7', metadata={}, page_content='n engl j med 366;23 nejm.org june 7, 20122214\\nTwo Hundred Years of Cancer Research\\nmastectomy with or without radiation.  \\nN Engl J Med 1985;312:674-81.\\n19. Fisher B, Redmond C, Dimitrov NV, et \\nal. A randomized clinical trial evaluating \\nsequential methotrexate and fluorouracil \\nin the treatment of patients with node-\\nnegative breast cancer who have estrogen-\\nreceptor-negative tumors. N Engl J Med \\n1989;320:473-8.\\n20. Fisher B, Costantino J, Redmond C, et \\nal. A randomized clinical trial evaluating \\ntamoxifen in the treatment of patients \\nwith node-negative breast cancer who have \\nestrogen-receptor–positive tumors. N Engl \\nJ Med 1989;320:479-84.\\n21. Fisher B, Redmond C, Poisson R, et al. \\nEight-year results of a randomized clini -\\ncal trial comparing total mastectomy and \\nlumpectomy with or without irradiation in \\nthe treatment of breast cancer. N Engl J \\nMed 1989;320:822-8. [Erratum, N Engl J \\nMed 1994;330:1467.]\\n22. Fisher B, Costantino J, Redmond C, et \\nal. Lumpectomy compared with lumpec -\\ntomy and radiation therapy for the treat -\\nment of intraductal breast cancer. N Engl \\nJ Med 1993;328:1581-6.\\n23. Fisher B, Anderson S, Redmond CK, \\nWolmark N, Wickerham L, Cronin WM. \\nReanalysis and results after 12 years of \\nfollow-up in a randomized clinical trial \\ncomparing total mastectomy with lumpec-\\ntomy with or without irradiation in the \\ntreatment of breast cancer. N Engl J Med \\n1995;333:1456-61.\\n24. Fisher B, Anderson S, Bryant J, et al. \\nTwenty-year follow-up of a randomized \\ntrial comparing total mastectomy, lumpec-\\ntomy, and lumpectomy plus irradiation for \\nthe treatment of invasive breast cancer.  \\nN Engl J Med 2002;347:1233-41.\\n25. Fisher B, Anderson SJ. Local therapy \\nand survival in breast cancer. N Engl J \\nMed 2007;357:1051-2.\\n26. Roentgen K. On a new kind of rays. \\nStanton A, trans. Nature 1896;53:274.\\n27. Curie P, Curie M, Bémont G. On a \\nnew, strongly radioactive substance con -\\ntained in pitchblende. CR (East Lansing, \\nMich) 1898;127:1215-7.\\n28. Coutard H. Roentgen therapy of epi -\\ntheliomas of the tonsillar region, hypo -\\npharynx, and larynx from 1920 to 1926. \\nAJR Am J Roentgenol 1932;28:313-31.\\n29. Clowes GHA, Baeslack FW. Further \\nevidence of immunity against cancer in \\nmice after spontaneous recovery: sixth an-\\nnual report. Albany: New York State Can-\\ncer Laboratory, 1904-5.\\n30. Goodman LS, Wintrobe MM, \\nDameshek W, et al. Nitrogen mustard ther-\\napy: use of methyl-bis(beta-chloroethyl) \\namine hydrochloride and tris (beta-chlo -\\nroethyl) amine hydrochloride for Hodg -\\nkin’s disease, lymphosarcoma, leukemia, \\nand certain allied and miscellaneous dis-\\norders. JAMA 1946;105:475-6.\\n31. Farber S, Diamond LK, Mercer RD, \\nSylvester RF Jr, Wolff JA. Temporary remis-\\nsions in acute leukemia in children pro -\\nduced by folic acid antagonist, 4-amino- \\npteroyl-glutamic acid (aminopterin). N Engl \\nJ Med 1948;238:787-93.\\n32. Frei E III, Karon M, Levin RH, et al. \\nThe effectiveness of combinations of anti-\\nleukemic agents in inducing and main -\\ntaining remission in children with acute \\nleukemia. Blood 1965;26:642-56.\\n33. DeVita VT, Moxley JH, Brace K, Frei E \\nIII. Intensive combination chemotherapy \\nand X-irradiation in the treatment of \\nHodgkin’s disease. Proc Am Assoc Cancer \\nRes 1965;6:15.\\n34. DeVita VT Jr, Serpick AA, Carbone PP. \\nCombination chemotherapy in the treat -\\nment of advanced Hodgkin’s disease. Ann \\nIntern Med 1970;73:881-95.\\n35. Bonadonna G, Brusamolino E, Vala -\\ngussa P, et al. Combination chemotherapy \\nas an adjuvant treatment in operable breast \\ncancer. N Engl J Med 1976;294:405-10.\\n36. Brawley O. A strategic approach to the \\ncontrol of cancer. National Press Founda-\\ntion (http://nationalpress.org/images/ \\nuploads/programs/10cancer_brawley.ppt).\\n37. Druker BJ, Guilhot F, O’Brien SG, et \\nal. Five-year follow-up of patients receiv -\\ning imatinib for chronic myeloid leuke -\\nmia. N Engl J Med 2006;355:2408-17.\\n38. Chapman PB, Hauschild A, Robert C, \\net al. Improved survival with vemurafenib \\nin melanoma with BRAF V600E mutation. \\nN Engl J Med 2011;364:2507-16.\\n39. Kwak EL, Bang Y-J, Camidge DR, et al. \\nAnaplastic lymphoma kinase inhibition \\nin non–small-cell lung cancer. N Engl J \\nMed 2010;363:1693-703. [Erratum, N Engl \\nJ Med 2011;364:588.]\\n40. Köhler G, Milstein C. Continuous cul-\\ntures of fused cells secreting antibody of \\npredefined specificity. Nature 1975;256: \\n495-7.\\n41. Maloney DG, Grillo-López AJ, White \\nCA, et al. IDEC-C2B8 (rituximab) anti-CD20 \\nmonoclonal antibody therapy in patients \\nwith relapsed low-grade non-Hodgkin’s \\nlymphoma. Blood 1997;90:2188-95.\\n42. Morgan DA, Ruscetti FW, Gallo RG. \\nSelective in vitro growth of T lymphocytes \\nfrom normal bone marrows. Science \\n1976;193:1007-8.\\n43. Rosenberg SA, Lotze MT, Muul LM, et \\nal. Observations on the systemic adminis-\\ntration of autologous lymphokine-activated \\nkiller cells and recombinant interleukin-2 \\nto patients with metastatic cancer. N Engl \\nJ Med 1985;313:1485-92.\\n44. Hodi FS, O’Day SJ, McDermott DF, et \\nal. Improved survival with ipilimumab in \\npatients with metastatic melanoma. N Engl \\nJ Med 2010;363:711-23. [Erratum, N Engl \\nJ Med 2010;363:1290.]\\n45. Rosenberg SA, Packard BS, Aebersold \\nPM, et al. Use of tumor infiltrating lym -\\nphocytes and interleukin-2 in the immu -\\nnotherapy of patients with metastatic mela-\\nnoma: preliminary report. N Engl J Med \\n1988;319:1676-80.\\n46. Dudley ME, Wunderlich JR, Robbins \\nPF, et al. Cancer regression and autoim -\\nmunity in patients after clonal repopula -\\ntion with antitumor lymphocytes. Science \\n2002;298:850-4.\\n47. Morgan RA, Dudley ME, Wunderlich \\nJR, et al. Cancer regression in patients af-\\nter transfer of genetically engineered lym-\\nphocytes. Science 2006;314:126-9.\\n48. Adler L. Primary malignant growth of \\nthe lungs and bronchi. London: Longmans-\\nGreen, 1912.\\n49. Smoking and health: report of the Ad-\\nvisory Committee to the Surgeon General \\nof the Public Health Service. Washington, \\nDC: Department of Health, Education, and \\nWelfare, Public Health Service, 1964. \\n(Publication no. (PHS) 1103.)\\n50. zur Hausen H. Condylomata acumi -\\nnata and human genital cancer. Cancer Res \\n1976;36:794.\\n51. Wong VC, Ip HM, Reesink HW, et al. \\nPrevention of the HBsAg carrier state in \\nnewborn infants of mothers who are \\nchronic carriers of HBsAg and HBeAg by \\nadministration of hepatitis-B vaccine and \\nhepatitis-B immunoglobulin: double-blind \\nrandomised placebo-controlled study. Lan-\\ncet 1984;1:921-6.\\n52. Hong WK, Lippman SM, Itri LM, Karp \\nDD. Prevention of second primary tumors \\nwith isotretinoin in squamous-cell carci-\\nnoma of the head and neck. N Engl J Med \\n1990;323:795-801.\\n53. Byers TE. Trends in cancer mortality. \\nIn: DeVita VT Jr, Lawrence TS, Rosenberg \\nSA, DePinho RA, Weinberg RA, eds. DeVita, \\nHellman, and Rosenberg’s cancer: princi-\\nples & practices of oncology. 9th ed. Phila-\\ndelphia: Wolters Kluwer Health/Lippincott \\nWilliams & Wilkins, 2011:261-8.\\n54. Byers T, Barrera E, Fontham ET, et al. \\nA midpoint assessment of the American \\nCancer Society challenge goal to halve the \\nU.S. cancer mortality rates between the \\nyears 1990 and 2015. Cancer 2006;107: \\n396-405.\\nCopyright © 2012 Massachusetts Medical Society.\\nThe New England Journal of Medicine is produced by NEJM Group, a division of the Massachusetts Medical Society.\\nDownloaded from nejm.org on February 11, 2025. For personal use only. \\n No other uses without permission. Copyright © 2012 Massachusetts Medical Society. All rights reserved.')]"
      ]
     },
     "execution_count": 16,
     "metadata": {},
     "output_type": "execute_result"
    }
   ],
   "source": [
    "results = vector_store_from_client.similarity_search(\n",
    "    \"LangChain provides abstractions to make working with LLMs easy\",\n",
    "    k=2\n",
    ")\n",
    "results"
   ]
  },
  {
   "cell_type": "code",
   "execution_count": 14,
   "metadata": {},
   "outputs": [
    {
     "name": "stdout",
     "output_type": "stream",
     "text": [
      "384\n"
     ]
    }
   ],
   "source": [
    "print(len(embeddings.embed_query(\"test\")))  # Gibt die Anzahl der Dimensionswerte aus\n"
   ]
  },
  {
   "cell_type": "code",
   "execution_count": 17,
   "metadata": {},
   "outputs": [
    {
     "name": "stdout",
     "output_type": "stream",
     "text": [
      "{'source': 'PDF_docs/doc_0.pdf', 'page': 0, 'page_label': '2207'}\n"
     ]
    }
   ],
   "source": [
    "print(all_docs[0].metadata)  # Prüfen, welche Metadaten die Dokumente haben\n"
   ]
  },
  {
   "cell_type": "code",
   "execution_count": 18,
   "metadata": {},
   "outputs": [
    {
     "name": "stdout",
     "output_type": "stream",
     "text": [
      "117\n"
     ]
    }
   ],
   "source": [
    "print(collection.count())  # Sollte die Anzahl der gespeicherten Dokumente anzeigen\n"
   ]
  },
  {
   "cell_type": "code",
   "execution_count": 19,
   "metadata": {},
   "outputs": [
    {
     "name": "stdout",
     "output_type": "stream",
     "text": [
      "[-0.039040405, -0.031918004, 0.01400283, -0.054590702, -0.07373046, -0.039934278, 0.024067352, -0.0070298985, 0.018356916, 0.05065217, -0.012790973, -0.023317067, -0.00902541, -0.021024954, -0.03049573, 0.102825195, 0.03822693, 0.007367943, -0.04503097, 0.005437239, 0.0014991075, -0.07213492, -0.011453949, 0.00025852027, -0.026513703, -0.016310602, 0.013575679, 0.064801544, 0.0066044037, -0.19675046, 0.017313646, -0.019261725, -0.015557217, -0.052778766, -0.027388468, 0.015363512, 0.029126702, -0.038986053, 0.015637845, -0.03567782, -0.061582673, 0.04478453, -0.07963169, 0.0020557682, 0.069159746, -0.007321409, -0.04313167, 0.102408215, 0.016852567, -0.053090718, -0.0033950494, -0.043845024, -0.031629693, -0.043196812, -0.039939582, -0.11151069, -0.0056996876, 0.0067695724, -0.011555407, 0.0015387835, 0.026440065, 0.006407138, 0.0017063587, 0.022644496, -0.0002029563, -0.013464383, -0.006329897, 0.041565385, 0.047157966, -0.0021116147, 0.042965744, -0.0627273, 0.049683597, -0.04343567, 0.0319374, -0.11424903, -0.04327902, 0.08289324, -0.0077007236, 0.03633033, 0.0012753938, 0.037948992, 0.020470735, -0.00437783, 0.030585615, -0.020871755, -0.038223088, 0.08377263, -0.014883054, 0.12684062, 0.11375906, -0.03966408, 0.05565002, -0.038361233, 0.012235167, -0.03892908, -0.14152464, 0.0460845, -0.24344078, 0.039568037, -0.005949398, 0.012252935, 0.011942827, -0.0155368345, -0.06854308, -0.043330856, -0.00619713, 0.0745176, -0.066462986, -0.103484005, 0.01305428, 0.041639958, 0.02184163, 0.010151511, -0.06268606, -0.0033562558, 0.06931418, -0.016392503, 0.03282553, -0.01527372, 0.06693198, -0.015156521, -0.027025815, -0.02625773, 0.012459212, 0.003966653, -0.008918719, 0.009252614, -0.014371642, -0.03753498, -0.0037271488, 0.052448876, -0.039867815, -0.01304101, -0.03168195, -0.06436394, 0.008133256, 0.027113182, 0.060998473, 0.02123806, -0.034020986, -0.017940257, -0.031745825, -0.042521074, -0.029569924, -0.082648136, -0.047395755, 0.004540342, -0.07785035, 0.006087137, -0.072068214, 0.030634008, -0.024396801, 0.006885607, 0.042478036, -0.042686746, -0.06600298, 0.0056168283, 0.016127853, 0.0140383495, 0.019163813, 0.01960206, -0.08515336, 0.0578258, -0.068825744, 0.066227615, 0.0916975, -0.01004654, -0.04351777, 0.013288877, 0.014537234, -0.025852302, 0.029880345, -0.048944257, -0.029503217, -0.033992846, -0.055697158, 0.02508535, 0.035677657, -0.03812762, 0.03629112, -0.012025991, 0.080759466, -0.0056323335, -0.02246688, -0.009174861, 0.038495466, 0.019383907, 0.038822494, -0.0032296542, 0.019099573, 0.05905414, -0.032450326, -0.046418626, 0.055093434, -0.06130949, -0.035944067, 0.03301482, 0.029744549, -0.051654786, 0.05448263, 0.034979098, 0.2415069, -0.0024580334, 0.016105073, 0.032747976, -0.057404358, -0.0056307265, -0.03937493, -0.06052583, 0.016332123, 0.03396817, -0.029126752, -0.10165557, 0.047730625, 0.037225034, -0.04670834, 0.0031545965, -0.12295297, -0.051730815, 0.009675428, -0.029831203, 0.026641998, 0.03481063, 0.026918605, 0.019095076, 0.028532758, -0.031290803, -0.026851516, -0.03512357, -0.0032608616, 0.007948029, -0.09301318, 0.08813635, -0.07280284, -0.014811571, -0.031326365, -0.074973054, -0.029249296, -0.012294527, -0.034456164, 0.12901467, -0.0075615477, 0.023715379, 0.020685287, 0.085655056, -0.03177449, -0.020092364, 0.0147409495, 0.02095396, -0.010505419, 0.026598219, 0.049516097, 0.019086288, -0.010206692, -0.0041520013, -0.0022848358, -0.0033246437, -0.03361064, -0.0022403323, 0.01949504, 0.0060684374, 0.087893665, 0.055271167, 0.015211592, -0.004216267, 0.015771119, 0.053888537, -0.02457597, 0.0122371875, -0.041796815, 0.018179765, -0.025106259, -0.090186745, 0.12429714, -0.02619582, -0.0146307405, -0.0729854, 0.0058337008, -0.038198218, -0.04963566, -0.0019507961, 0.014142383, -0.052029166, -0.011035499, 0.00010784872, 0.0015917355, -0.0026008822, -0.009515228, -0.08269111, 0.023177328, -0.0014550557, -0.012211441, -0.07094481, 0.029678568, 0.10728399, -0.023287673, -0.066163346, 0.059355758, -0.060145445, -0.020238247, 0.011871919, 0.0048725554, -0.07336059, -0.03393242, 0.06409822, -0.016301002, -0.0387635, -0.0110178795, -0.011485708, -0.10844215, 0.022270966, 0.016680067, 0.060342643, 0.0017420897, -0.017174792, 0.016322186, 0.0070389765, 0.0010797108, -0.0065826243, -0.062412653, -0.047517065, -0.066765286, 0.052416384, 0.08244235, 0.023759732, 0.0015913928, 0.08753725, 0.059154347, 0.055303104, -0.002729582, -0.061173975, 0.023805175, 0.093312286, 0.2013105, 0.024406856, -0.008755295, 0.046950106, -0.010310273, -0.05543613, 0.030477494, -0.011374206, -0.040577818, -0.117548406, 0.027197342, -0.049127556, 0.03581735, -0.03453088, -0.00017806365, 0.046503942, 0.023522077, -0.09009622, 0.059210073, 0.019931749, 0.023741785, -0.030566435, -0.07469115, -0.034822434, -0.0159626, 0.058157135, 0.0039940774, 0.030546216, -0.09023181, -0.007309497, 0.016236102, 0.032573417, -0.016013056, -0.09206391, -0.015171309, -0.035971124, 0.021978319, -0.03651119, -0.0049210475, 0.042229433, 0.021786436, -0.0035488761, -0.006460602, -0.03734975, 0.0069529735, -0.078013964, -0.012447966, 0.008363454, -0.16026422, 0.094781965]\n"
     ]
    }
   ],
   "source": [
    "print(embeddings.embed_query(\"test\"))\n"
   ]
  }
 ],
 "metadata": {
  "kernelspec": {
   "display_name": ".venv",
   "language": "python",
   "name": "python3"
  },
  "language_info": {
   "codemirror_mode": {
    "name": "ipython",
    "version": 3
   },
   "file_extension": ".py",
   "mimetype": "text/x-python",
   "name": "python",
   "nbconvert_exporter": "python",
   "pygments_lexer": "ipython3",
   "version": "3.11.11"
  }
 },
 "nbformat": 4,
 "nbformat_minor": 2
}
